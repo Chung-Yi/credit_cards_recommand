{
 "cells": [
  {
   "cell_type": "code",
   "execution_count": 1,
   "id": "2398803b",
   "metadata": {},
   "outputs": [],
   "source": [
    "import pandas as pd\n",
    "import numpy as np\n",
    "import pandas as pd\n",
    "import matplotlib.pyplot as plt\n",
    "import seaborn as sns\n",
    "from sklearn.preprocessing import MinMaxScaler, StandardScaler, LabelEncoder\n",
    "from sklearn.model_selection import cross_val_score, train_test_split\n",
    "from sklearn.ensemble import GradientBoostingClassifier\n",
    "from sklearn.metrics import accuracy_score"
   ]
  },
  {
   "cell_type": "code",
   "execution_count": null,
   "id": "a07e5915",
   "metadata": {},
   "outputs": [],
   "source": [
    "df = pd.read_csv('data/tbrain1to5.csv')\n",
    "train_Y = df['shop_tag'].map(lambda x : 49 if x == 'other' else int(x))\n",
    "df = df.drop(['shop_tag'], axis=1)\n",
    "df.head()"
   ]
  },
  {
   "cell_type": "code",
   "execution_count": null,
   "id": "e2c2f65b",
   "metadata": {},
   "outputs": [],
   "source": [
    "df.dtypes"
   ]
  },
  {
   "cell_type": "code",
   "execution_count": null,
   "id": "5f62ce19",
   "metadata": {
    "scrolled": true
   },
   "outputs": [],
   "source": [
    "df.describe()"
   ]
  },
  {
   "cell_type": "code",
   "execution_count": null,
   "id": "79d2d794",
   "metadata": {},
   "outputs": [],
   "source": [
    "def Diff(li1, li2):\n",
    "    return list(set(li1) - set(li2)) + list(set(li2) - set(li1))"
   ]
  },
  {
   "cell_type": "code",
   "execution_count": null,
   "id": "bcc8aada",
   "metadata": {},
   "outputs": [],
   "source": [
    "num_features = ['dt', 'txn_cnt', 'txn_amt', 'domestic_offline_cnt', 'domestic_online_cnt',\n",
    "                'overseas_offline_cnt', 'overseas_online_cnt', 'domestic_offline_amt_pct', 'domestic_online_amt_pct', \n",
    "                'overseas_offline_amt_pct', 'overseas_online_amt_pct', 'card_1_txn_cnt', \n",
    "                'card_2_txn_cnt', 'card_3_txn_cnt', 'card_4_txn_cnt', 'card_5_txn_cnt', 'card_6_txn_cnt',\n",
    "                'card_7_txn_cnt', 'card_8_txn_cnt', 'card_9_txn_cnt', 'card_10_txn_cnt', 'card_11_txn_cnt', \n",
    "                'card_12_txn_cnt', 'card_13_txn_cnt', 'card_14_txn_cnt', 'card_other_txn_cnt', 'card_1_txn_amt_pct', 'card_2_txn_amt_pct', \n",
    "                'card_3_txn_amt_pct', 'card_4_txn_amt_pct', 'card_5_txn_amt_pct', 'card_6_txn_amt_pct', 'card_7_txn_amt_pct', 'card_8_txn_amt_pct', \n",
    "                'card_9_txn_amt_pct', 'card_10_txn_amt_pct', 'card_11_txn_amt_pct', 'card_12_txn_amt_pct', 'card_13_txn_amt_pct', 'card_14_txn_amt_pct', 'slam']\n",
    "\n",
    "object_features = Diff(df.columns, num_features)\n",
    "object_features"
   ]
  },
  {
   "cell_type": "code",
   "execution_count": null,
   "id": "2cb3b647",
   "metadata": {},
   "outputs": [],
   "source": [
    "# check columns is null\n",
    "df.isnull().sum()"
   ]
  },
  {
   "cell_type": "code",
   "execution_count": null,
   "id": "ec31378a",
   "metadata": {},
   "outputs": [],
   "source": [
    "# 數值型遺失值\n",
    "for c in num_features:\n",
    "    non_na_df = df[c][~df[c].isnull()]\n",
    "    mean_non_na = non_na_df.mean()\n",
    "    \n",
    "    # Nan replace with mean\n",
    "    df[c][df[c].isnull()] = mean_non_na\n",
    "    \n",
    "    IQR = non_na_df.quantile(0.75) - non_na_df.quantile(0.25)\n",
    "    upper = non_na_df.quantile(0.75) + IQR * 1.5\n",
    "    lower = non_na_df.quantile(0.25) - IQR * 1.5\n",
    "    df[c] = df[c].clip(lower, upper)"
   ]
  },
  {
   "cell_type": "code",
   "execution_count": null,
   "id": "c63f8805",
   "metadata": {},
   "outputs": [],
   "source": [
    "# 類別型遺失值\n",
    "for i in object_features:\n",
    "    df[i] = df[i].fillna(df[i].median())"
   ]
  },
  {
   "cell_type": "code",
   "execution_count": null,
   "id": "7bcb562b",
   "metadata": {},
   "outputs": [],
   "source": [
    "df.isnull().sum()"
   ]
  },
  {
   "cell_type": "code",
   "execution_count": null,
   "id": "881ca02a",
   "metadata": {},
   "outputs": [],
   "source": [
    "for c in object_features:\n",
    "    df[c] = LabelEncoder().fit_transform(df[c])"
   ]
  },
  {
   "cell_type": "code",
   "execution_count": null,
   "id": "8ac54a8c",
   "metadata": {},
   "outputs": [],
   "source": [
    "train_X = df\n",
    "x_train, x_val, y_train, y_val = train_test_split(train_X, train_Y, test_size=0.1, random_state=10)\n",
    "clf = GradientBoostingClassifier(n_estimators=200)\n",
    "clf.fit(x_train, y_train)"
   ]
  },
  {
   "cell_type": "code",
   "execution_count": null,
   "id": "90b74fe4",
   "metadata": {},
   "outputs": [],
   "source": [
    "y_pred = clf.predict_proba(x_val)\n",
    "print(np.sort(y_pred[0])[::-1])"
   ]
  },
  {
   "cell_type": "code",
   "execution_count": null,
   "id": "1f32049c",
   "metadata": {},
   "outputs": [],
   "source": []
  }
 ],
 "metadata": {
  "kernelspec": {
   "display_name": "Python 3",
   "language": "python",
   "name": "python3"
  },
  "language_info": {
   "codemirror_mode": {
    "name": "ipython",
    "version": 3
   },
   "file_extension": ".py",
   "mimetype": "text/x-python",
   "name": "python",
   "nbconvert_exporter": "python",
   "pygments_lexer": "ipython3",
   "version": "3.8.8"
  }
 },
 "nbformat": 4,
 "nbformat_minor": 5
}
